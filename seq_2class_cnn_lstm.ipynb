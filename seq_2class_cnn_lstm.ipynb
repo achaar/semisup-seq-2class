{
  "nbformat": 4,
  "nbformat_minor": 0,
  "metadata": {
    "colab": {
      "name": "seq_2class_cnn_lstm.ipynb",
      "provenance": [],
      "collapsed_sections": []
    },
    "kernelspec": {
      "name": "python3",
      "display_name": "Python 3"
    },
    "accelerator": "GPU"
  },
  "cells": [
    {
      "cell_type": "markdown",
      "metadata": {
        "id": "qSgkMa9MAwSF",
        "colab_type": "text"
      },
      "source": [
        "The below iPython NoteBook is made for Google Collaboratory. Each part is to be run only after the preceding parts have finished running.\n",
        "\n",
        "The first part of the code shows the loading IMDB data, model creation, semi-supevised/supervised training processes. It also shows the accuracy after 10 epochs. \n",
        "\n",
        "Possible Customizations:\n",
        "The num_words, skip_words, semi-supervised to supervised learning, the percentage of samples to use for supervised learning, the model file name whenever you make a new model, and the number of CNN layers to change the model. "
      ]
    },
    {
      "cell_type": "code",
      "metadata": {
        "id": "ISbVmHZEuQ6H",
        "colab_type": "code",
        "colab": {}
      },
      "source": [
        "# LSTM and CNN for sequence classification on the IMDB dataset\n",
        "import os\n",
        "import numpy\n",
        "from keras.datasets import imdb\n",
        "from keras.models import Sequential\n",
        "from keras.layers import Dense\n",
        "from keras.layers import LSTM\n",
        "from keras.layers.convolutional import Conv1D\n",
        "from keras.layers.convolutional import MaxPooling1D\n",
        "from keras.layers.embeddings import Embedding\n",
        "from keras.preprocessing import sequence\n",
        "from keras.layers import Dropout\n",
        "from keras.models import load_model\n",
        "from keras.callbacks import ModelCheckpoint\n",
        "from math import floor\n",
        "# fix random seed for reproducibility\n",
        "numpy.random.seed(7)\n",
        "# load the dataset but only keep the top n words, zero the rest\n",
        "top_words = 5000\n",
        "skip_top_words = 0 # 20\n",
        "semi_supervised = True  #change to false for supervised learning\n",
        "\n",
        "\n",
        "# (X_train, y_train), (X_test, y_test) = imdb.load_data(num_words=top_words)\n",
        "(X_train, y_train), (X_test, y_test) = imdb.load_data(num_words=top_words, skip_top=skip_top_words)\n",
        "# truncate and pad input sequences\n",
        "max_review_length = 500\n",
        "X_train = sequence.pad_sequences(X_train, maxlen=max_review_length)\n",
        "X_test = sequence.pad_sequences(X_test, maxlen=max_review_length)\n",
        "\n",
        "all_data = numpy.append(X_train, X_test, axis=0)\n",
        "all_label = numpy.append(y_train, y_test, axis=0)\n",
        "print(all_data.shape, all_label.shape)\n",
        "data_len = len(all_data)\n",
        "\n",
        "if semi_supervised ==True:\n",
        "  #semi-supervised : self training\n",
        "  #partition data into labeled and unlabeled\n",
        "  print(\"Using Semi-Supervised Learning\")\n",
        "  first_part = floor(0.1*data_len)\n",
        "  second_part = floor(0.8*data_len)\n",
        "  thrid_part = floor(1*data_len)\n",
        "\n",
        "  \n",
        "else:\n",
        "  #supervised learning\n",
        "  print(\"Using Supervised Learning\")\n",
        "  use_percentage = 0.1 # adjust the float value to decide the percentage of labeled data used\n",
        "  first_part = floor(use_percentage*data_len)  \n",
        "  second_part = floor(use_percentage*data_len)\n",
        "  thrid_part = floor(1*data_len)\n",
        "\n",
        "partition_indexes = [[range(0,first_part)], [range(first_part, second_part)], [range(second_part, thrid_part)]]\n",
        "\n",
        "l_data_x = all_data[partition_indexes[0]] # labeled_data\n",
        "u_data_x = all_data[partition_indexes[1]] # unlabeled_data\n",
        "t_data_x = all_data[partition_indexes[2]] # test_data\n",
        "\n",
        "l_data_y = all_label[partition_indexes[0]] \n",
        "u_data_y = all_label[partition_indexes[1]]\n",
        "t_data_y = all_label[partition_indexes[2]]\n",
        "\n",
        "print(\"Original : Labeled : Unlabeled > \",X_train.shape, y_train.shape, l_data_x.shape, l_data_y.shape, u_data_x.shape, u_data_y.shape)\n",
        "\n",
        " \n",
        "\n",
        "model_file_name = \"best_model_4cnn_1dense_skip_model_semisupervised.hdf5\"\n",
        "times = 10\n",
        "for curr_time in range(times):\n",
        "    print(\"Iteration\", curr_time)\n",
        "    # create the model\n",
        "    path = \"/content/\" + model_file_name\n",
        "    if (os.path.exists(path)):\n",
        "      model = load_model(path)\n",
        "      print(\"model loaded from \"+path)\n",
        "      if semi_supervised == True:\n",
        "        print(\"adding unlabeled data by self-training\")\n",
        "        predicted_y = model.predict(u_data_x)\n",
        "        new_data_x = []\n",
        "        new_data_y = []\n",
        "        threshold = 0.2\n",
        "        for i,y in enumerate(predicted_y):\n",
        "          if y<threshold or y>(1.0-threshold):\n",
        "            new_data_x.append(u_data_x[i])\n",
        "            new_data_y.append(0 if y<threshold else 1)\n",
        "\n",
        "        print(\"new data added for training: \", len(new_data_y))\n",
        "        \n",
        "        if new_data_x !=[]:\n",
        "          l_data_x = numpy.append(l_data_x, numpy.asarray(new_data_x), axis=0)\n",
        "          l_data_y = numpy.append(l_data_y, numpy.asarray(new_data_y), axis=0)\n",
        "\n",
        "        # shuffle the updated data\n",
        "        indices = numpy.arange(len(l_data_x))\n",
        "        numpy.random.shuffle(indices)\n",
        "        l_data_x = l_data_x[indices]\n",
        "        l_data_y = l_data_y[indices]\n",
        "    else:\n",
        "      print(\"building a new model\")\n",
        "      embedding_vecor_length = 32\n",
        "      model = Sequential()\n",
        "      model.add(Embedding(top_words, embedding_vecor_length, input_length=max_review_length))\n",
        "      model.add(Dropout(0.2))\n",
        "      model.add(Conv1D(filters=32, kernel_size=3, padding='same', activation='relu'))\n",
        "      model.add(MaxPooling1D(pool_size=2))\n",
        "      model.add(Dropout(0.2))\n",
        "      model.add(Conv1D(filters=128, kernel_size=3, padding='same', activation='relu'))\n",
        "      model.add(MaxPooling1D(pool_size=2))\n",
        "      model.add(Dropout(0.2))\n",
        "      model.add(Conv1D(filters=128, kernel_size=3, padding='same', activation='relu'))\n",
        "      model.add(MaxPooling1D(pool_size=2))\n",
        "      model.add(Dropout(0.2))\n",
        "      model.add(Conv1D(filters=64, kernel_size=3, padding='same', activation='relu'))\n",
        "      model.add(MaxPooling1D(pool_size=2))\n",
        "      model.add(Dropout(0.2))\n",
        "      model.add(LSTM(100, dropout=0.2, recurrent_dropout=0.2))\n",
        "      model.add(Dropout(0.2))\n",
        "      model.add(Dense(1, activation='sigmoid'))\n",
        "      model.compile(loss='binary_crossentropy', optimizer='adam', metrics=['accuracy'])\n",
        "      print(model.summary())\n",
        "    checkpoint = ModelCheckpoint(model_file_name, monitor='loss', verbose=1, save_best_only=True, mode='auto', period=1)\n",
        "    model.fit(l_data_x, l_data_y, epochs=2, batch_size=64, callbacks=[checkpoint])\n",
        "# Final evaluation of the model\n",
        "scores = model.evaluate(t_data_x, t_data_y, verbose=0)\n",
        "print(\"Accuracy: %.2f%%\" % (scores[1]*100))\n",
        "\n",
        "\n",
        "#/content/best_model.hdf5\n",
        "#/content/best_model_cnn.hdf5\n",
        "\n"
      ],
      "execution_count": 0,
      "outputs": []
    },
    {
      "cell_type": "markdown",
      "metadata": {
        "id": "DYhkEPpTDmp1",
        "colab_type": "text"
      },
      "source": [
        "The below code is for evaluation and in-depth understanding of the working of the above model.\n",
        "\n",
        "First, the dictionary for word to index mapping is extracted and used to print what a typical training data sample might look like and how it is interpreted by the model.\n",
        "\n",
        "Then using the same procedure, a generic test string is created and passed to model and the prediction is printed. \n",
        "\n",
        "Possible Customizations:\n",
        "The generic text string could be anything given by the user. For now, only simple format is supported, i.e. spaces before and after \".\", so that it can be marked as <UNK> and does not affect the sequence much."
      ]
    },
    {
      "cell_type": "code",
      "metadata": {
        "id": "Vz19Vg9ItYUY",
        "colab_type": "code",
        "outputId": "6314f8b6-57f4-4e98-c55d-f36168df09b4",
        "colab": {
          "base_uri": "https://localhost:8080/",
          "height": 139
        }
      },
      "source": [
        "''' For Evaluation '''\n",
        "\n",
        "NUM_WORDS=top_words # only use top 1000 words\n",
        "INDEX_FROM=3   # word index offset\n",
        "import numpy as np\n",
        "# train,test = keras.datasets.imdb.load_data(num_words=NUM_WORDS, index_from=INDEX_FROM)\n",
        "# train_x,train_y = train\n",
        "# test_x,test_y = test\n",
        "\n",
        "word_to_id = imdb.get_word_index()\n",
        "word_to_id = {k:(v+INDEX_FROM) for k,v in word_to_id.items()}\n",
        "word_to_id[\"<PAD>\"] = 0\n",
        "word_to_id[\"<START>\"] = 1\n",
        "word_to_id[\"<UNK>\"] = 2\n",
        "word_to_id[\"<UNUSED>\"] = 3\n",
        "\n",
        "id_to_word = {value:key for key,value in word_to_id.items()}\n",
        "print(\"Example Training Data Sample\")\n",
        "print(' '.join(id_to_word[id] for id in X_train[0] ))\n",
        "\n",
        "# print(X_train[0])\n",
        "\n",
        "### Uncomment the below sentence to evaluate a generic positive or negative string\n",
        "\n",
        "# new_in = \"I liked the film a lot . There were some excellent scenes showing spaceflight and superheores . The actors were well suited for their roles . This movie definiltely deserves an Oscar .\"\n",
        "new_in = \"The movie was so bad I walked out of the theatre after an hour . The acting and dialogs were abysmal . There was no story to be followed . This was a waste of time .\"\n",
        "new_in = new_in.lower()\n",
        "print(new_in)\n",
        "new_in = new_in.split()  # This could be improved\n",
        "words = [w if w in word_to_id else \"<UNK>\" for w in new_in]\n",
        "# print(words)\n",
        "# index_from = INDEX_FROM  # Already added in word_to_id\n",
        "index_from = 0 # Already added in word_to_id\n",
        "#replace words by their freq + index_from\n",
        "in_vec = [word_to_id[word] + index_from for word in words]\n",
        "# print(in_vec)\n",
        "max_review_length = 500\n",
        "in_vec = [word_to_id[\"<START>\"]] + in_vec\n",
        "in_vec = [in_vec]\n",
        "\n",
        "oov_char = 2\n",
        "skip_top = skip_top_words\n",
        "num_words = top_words\n",
        "if oov_char is not None:\n",
        "  for i in range(len(in_vec)):\n",
        "    in_vec[i] = [w if (skip_top <= w < num_words) else oov_char for w in in_vec[i]]\n",
        "else:\n",
        "    in_vec = [[w for w in x if skip_top <= w < num_words] for x in in_vec]\n",
        "\n",
        "#adjust the sequence length\n",
        "new_x = np.asarray(in_vec)\n",
        "# new_x = new_x.transpose()\n",
        "new_x = sequence.pad_sequences(new_x, maxlen=max_review_length)\n",
        "# new_x = []\n",
        "# for x in in_vec:\n",
        "#   new_x.append([x])\n",
        "  \n",
        "# print(new_x)\n",
        "print(\"Prediction on Generic Test String not belonging to the  Dataset\")\n",
        "# print(new_x)  # print the new input tensor\n",
        "print(' '.join(id_to_word[id] for id in new_x[0] ))\n",
        "prediction = model.predict(new_x)\n",
        "\n",
        "print(\"Predicted value is: \" + str(prediction))"
      ],
      "execution_count": 0,
      "outputs": [
        {
          "output_type": "stream",
          "text": [
            "Example Training Data Sample\n",
            "<PAD> <PAD> <PAD> <PAD> <PAD> <PAD> <PAD> <PAD> <PAD> <PAD> <PAD> <PAD> <PAD> <PAD> <PAD> <PAD> <PAD> <PAD> <PAD> <PAD> <PAD> <PAD> <PAD> <PAD> <PAD> <PAD> <PAD> <PAD> <PAD> <PAD> <PAD> <PAD> <PAD> <PAD> <PAD> <PAD> <PAD> <PAD> <PAD> <PAD> <PAD> <PAD> <PAD> <PAD> <PAD> <PAD> <PAD> <PAD> <PAD> <PAD> <PAD> <PAD> <PAD> <PAD> <PAD> <PAD> <PAD> <PAD> <PAD> <PAD> <PAD> <PAD> <PAD> <PAD> <PAD> <PAD> <PAD> <PAD> <PAD> <PAD> <PAD> <PAD> <PAD> <PAD> <PAD> <PAD> <PAD> <PAD> <PAD> <PAD> <PAD> <PAD> <PAD> <PAD> <PAD> <PAD> <PAD> <PAD> <PAD> <PAD> <PAD> <PAD> <PAD> <PAD> <PAD> <PAD> <PAD> <PAD> <PAD> <PAD> <PAD> <PAD> <PAD> <PAD> <PAD> <PAD> <PAD> <PAD> <PAD> <PAD> <PAD> <PAD> <PAD> <PAD> <PAD> <PAD> <PAD> <PAD> <PAD> <PAD> <PAD> <PAD> <PAD> <PAD> <PAD> <PAD> <PAD> <PAD> <PAD> <PAD> <PAD> <PAD> <PAD> <PAD> <PAD> <PAD> <PAD> <PAD> <PAD> <PAD> <PAD> <PAD> <PAD> <PAD> <PAD> <PAD> <PAD> <PAD> <PAD> <PAD> <PAD> <PAD> <PAD> <PAD> <PAD> <PAD> <PAD> <PAD> <PAD> <PAD> <PAD> <PAD> <PAD> <PAD> <PAD> <PAD> <PAD> <PAD> <PAD> <PAD> <PAD> <PAD> <PAD> <PAD> <PAD> <PAD> <PAD> <PAD> <PAD> <PAD> <PAD> <PAD> <PAD> <PAD> <PAD> <PAD> <PAD> <PAD> <PAD> <PAD> <PAD> <PAD> <PAD> <PAD> <PAD> <PAD> <PAD> <PAD> <PAD> <PAD> <PAD> <PAD> <PAD> <PAD> <PAD> <PAD> <PAD> <PAD> <PAD> <PAD> <PAD> <PAD> <PAD> <PAD> <PAD> <PAD> <PAD> <PAD> <PAD> <PAD> <PAD> <PAD> <PAD> <PAD> <PAD> <PAD> <PAD> <PAD> <PAD> <PAD> <PAD> <PAD> <PAD> <PAD> <PAD> <PAD> <PAD> <PAD> <PAD> <PAD> <PAD> <PAD> <PAD> <PAD> <PAD> <PAD> <PAD> <PAD> <PAD> <PAD> <PAD> <PAD> <PAD> <PAD> <PAD> <PAD> <PAD> <PAD> <PAD> <PAD> <PAD> <PAD> <PAD> <PAD> <PAD> <PAD> <PAD> <PAD> <PAD> <PAD> <PAD> <PAD> <PAD> <PAD> <PAD> <PAD> <PAD> <PAD> <PAD> <PAD> <PAD> <PAD> <START> this film was just brilliant casting location scenery story direction everyone's really suited the part they played and you could just imagine being there robert <UNK> is an amazing actor and now the same being director <UNK> father came from the same scottish island as myself so i loved the fact there was a real connection with this film the witty remarks throughout the film were great it was just brilliant so much that i bought the film as soon as it was released for <UNK> and would recommend it to everyone to watch and the fly <UNK> was amazing really cried at the end it was so sad and you know what they say if you cry at a film it must have been good and this definitely was also <UNK> to the two little <UNK> that played the <UNK> of norman and paul they were just brilliant children are often left out of the <UNK> list i think because the stars that play them all grown up are such a big <UNK> for the whole film but these children are amazing and should be <UNK> for what they have done don't you think the whole story was so lovely because it was true and was someone's life after all that was <UNK> with us all\n",
            "the movie was so bad i walked out of the theatre after an hour . the acting and dialogs were abysmal . there was no story to be followed . this was a waste of time .\n",
            "Prediction on Generic Test String not belonging to the  Dataset\n",
            "<PAD> <PAD> <PAD> <PAD> <PAD> <PAD> <PAD> <PAD> <PAD> <PAD> <PAD> <PAD> <PAD> <PAD> <PAD> <PAD> <PAD> <PAD> <PAD> <PAD> <PAD> <PAD> <PAD> <PAD> <PAD> <PAD> <PAD> <PAD> <PAD> <PAD> <PAD> <PAD> <PAD> <PAD> <PAD> <PAD> <PAD> <PAD> <PAD> <PAD> <PAD> <PAD> <PAD> <PAD> <PAD> <PAD> <PAD> <PAD> <PAD> <PAD> <PAD> <PAD> <PAD> <PAD> <PAD> <PAD> <PAD> <PAD> <PAD> <PAD> <PAD> <PAD> <PAD> <PAD> <PAD> <PAD> <PAD> <PAD> <PAD> <PAD> <PAD> <PAD> <PAD> <PAD> <PAD> <PAD> <PAD> <PAD> <PAD> <PAD> <PAD> <PAD> <PAD> <PAD> <PAD> <PAD> <PAD> <PAD> <PAD> <PAD> <PAD> <PAD> <PAD> <PAD> <PAD> <PAD> <PAD> <PAD> <PAD> <PAD> <PAD> <PAD> <PAD> <PAD> <PAD> <PAD> <PAD> <PAD> <PAD> <PAD> <PAD> <PAD> <PAD> <PAD> <PAD> <PAD> <PAD> <PAD> <PAD> <PAD> <PAD> <PAD> <PAD> <PAD> <PAD> <PAD> <PAD> <PAD> <PAD> <PAD> <PAD> <PAD> <PAD> <PAD> <PAD> <PAD> <PAD> <PAD> <PAD> <PAD> <PAD> <PAD> <PAD> <PAD> <PAD> <PAD> <PAD> <PAD> <PAD> <PAD> <PAD> <PAD> <PAD> <PAD> <PAD> <PAD> <PAD> <PAD> <PAD> <PAD> <PAD> <PAD> <PAD> <PAD> <PAD> <PAD> <PAD> <PAD> <PAD> <PAD> <PAD> <PAD> <PAD> <PAD> <PAD> <PAD> <PAD> <PAD> <PAD> <PAD> <PAD> <PAD> <PAD> <PAD> <PAD> <PAD> <PAD> <PAD> <PAD> <PAD> <PAD> <PAD> <PAD> <PAD> <PAD> <PAD> <PAD> <PAD> <PAD> <PAD> <PAD> <PAD> <PAD> <PAD> <PAD> <PAD> <PAD> <PAD> <PAD> <PAD> <PAD> <PAD> <PAD> <PAD> <PAD> <PAD> <PAD> <PAD> <PAD> <PAD> <PAD> <PAD> <PAD> <PAD> <PAD> <PAD> <PAD> <PAD> <PAD> <PAD> <PAD> <PAD> <PAD> <PAD> <PAD> <PAD> <PAD> <PAD> <PAD> <PAD> <PAD> <PAD> <PAD> <PAD> <PAD> <PAD> <PAD> <PAD> <PAD> <PAD> <PAD> <PAD> <PAD> <PAD> <PAD> <PAD> <PAD> <PAD> <PAD> <PAD> <PAD> <PAD> <PAD> <PAD> <PAD> <PAD> <PAD> <PAD> <PAD> <PAD> <PAD> <PAD> <PAD> <PAD> <PAD> <PAD> <PAD> <PAD> <PAD> <PAD> <PAD> <PAD> <PAD> <PAD> <PAD> <PAD> <PAD> <PAD> <PAD> <PAD> <PAD> <PAD> <PAD> <PAD> <PAD> <PAD> <PAD> <PAD> <PAD> <PAD> <PAD> <PAD> <PAD> <PAD> <PAD> <PAD> <PAD> <PAD> <PAD> <PAD> <PAD> <PAD> <PAD> <PAD> <PAD> <PAD> <PAD> <PAD> <PAD> <PAD> <PAD> <PAD> <PAD> <PAD> <PAD> <PAD> <PAD> <PAD> <PAD> <PAD> <PAD> <PAD> <PAD> <PAD> <PAD> <PAD> <PAD> <PAD> <PAD> <PAD> <PAD> <PAD> <PAD> <PAD> <PAD> <PAD> <PAD> <PAD> <PAD> <PAD> <PAD> <PAD> <PAD> <PAD> <PAD> <PAD> <PAD> <PAD> <PAD> <PAD> <PAD> <PAD> <PAD> <PAD> <PAD> <PAD> <PAD> <PAD> <PAD> <PAD> <PAD> <PAD> <PAD> <PAD> <PAD> <PAD> <PAD> <PAD> <PAD> <PAD> <PAD> <PAD> <PAD> <PAD> <PAD> <PAD> <PAD> <PAD> <PAD> <PAD> <PAD> <PAD> <PAD> <PAD> <PAD> <PAD> <PAD> <PAD> <PAD> <PAD> <PAD> <PAD> <PAD> <PAD> <PAD> <PAD> <PAD> <PAD> <PAD> <PAD> <PAD> <PAD> <PAD> <PAD> <PAD> <PAD> <PAD> <PAD> <PAD> <PAD> <PAD> <PAD> <PAD> <PAD> <PAD> <PAD> <PAD> <PAD> <PAD> <PAD> <PAD> <PAD> <PAD> <PAD> <PAD> <PAD> <PAD> <PAD> <PAD> <PAD> <PAD> <PAD> <PAD> <PAD> <PAD> <PAD> <PAD> <PAD> <PAD> <PAD> <PAD> <PAD> <PAD> <PAD> <PAD> <PAD> <PAD> <PAD> <PAD> <PAD> <PAD> <PAD> <START> the movie was so bad i walked out of the theatre after an hour <UNK> the acting and dialogs were abysmal <UNK> there was no story to be followed <UNK> this was a waste of time <UNK>\n",
            "Predicted value is: [[1.1290014e-05]]\n"
          ],
          "name": "stdout"
        }
      ]
    },
    {
      "cell_type": "markdown",
      "metadata": {
        "id": "NRjEjRhO-Hr0",
        "colab_type": "text"
      },
      "source": [
        "The below code is for checking the difficult cases.\n",
        "\n",
        "Possible customizations:\n"
      ]
    },
    {
      "cell_type": "code",
      "metadata": {
        "id": "AuIly13SL15V",
        "colab_type": "code",
        "outputId": "d8232e3a-edcc-4da2-84f8-a0bcedce94a3",
        "colab": {
          "base_uri": "https://localhost:8080/",
          "height": 541
        }
      },
      "source": [
        "predicted_y = model.predict(t_data_x)  # calculate the predicted values on the test data\n",
        "\n",
        "import matplotlib.pyplot as plt\n",
        "\n",
        "# data = {'a': np.arange(50),\n",
        "#         'c': np.random.randint(0, 50, 50),\n",
        "#         'd': np.random.randn(50)}\n",
        "# data['b'] = data['a'] + 10 * np.random.randn(50)\n",
        "# data['d'] = np.abs(data['d']) * 100\n",
        "\n",
        "start = 0\n",
        "end = 10\n",
        "data = {'a':np.arange(start, end), 'b':t_data_y[start:end]}\n",
        "\n",
        "plt.scatter('a', 'b', data=data)\n",
        "plt.xlabel('Samples')\n",
        "plt.ylabel('True Labels')\n",
        "plt.show()\n",
        "\n",
        "data = {'a':np.arange(start, end), 'b':predicted_y[start:end]}\n",
        "\n",
        "plt.scatter('a', 'b', data=data)\n",
        "plt.xlabel('Samples')\n",
        "plt.ylabel('Predicted Labels')\n",
        "plt.show()\n"
      ],
      "execution_count": 0,
      "outputs": [
        {
          "output_type": "display_data",
          "data": {
            "image/png": "[encoded data removed]",
            "text/plain": [
              "<Figure size 432x288 with 1 Axes>"
            ]
          },
          "metadata": {
            "tags": []
          }
        },
        {
          "output_type": "display_data",
          "data": {
            "image/png": "[encoded data removed]",
            "text/plain": [
              "<Figure size 432x288 with 1 Axes>"
            ]
          },
          "metadata": {
            "tags": []
          }
        }
      ]
    },
    {
      "cell_type": "markdown",
      "metadata": {
        "id": "HsZsraEMGbON",
        "colab_type": "text"
      },
      "source": [
        "The below code is to print the difficult cases.\n",
        "\n",
        "Possible customizations:\n",
        "The index of the test data to print."
      ]
    },
    {
      "cell_type": "code",
      "metadata": {
        "id": "C05b_xoeRJ7L",
        "colab_type": "code",
        "outputId": "1f63a034-4323-4b87-ab94-5db75d52507a",
        "colab": {
          "base_uri": "https://localhost:8080/",
          "height": 54
        }
      },
      "source": [
        "def vec2string(in_vec):\n",
        "  NUM_WORDS=top_words # only use top 1000 words\n",
        "  INDEX_FROM=3   # word index offset\n",
        "  # train,test = keras.datasets.imdb.load_data(num_words=NUM_WORDS, index_from=INDEX_FROM)\n",
        "  # train_x,train_y = train\n",
        "  # test_x,test_y = test\n",
        "\n",
        "  word_to_id = imdb.get_word_index()\n",
        "  word_to_id = {k:(v+INDEX_FROM) for k,v in word_to_id.items()}\n",
        "  word_to_id[\"<PAD>\"] = 0\n",
        "  word_to_id[\"<START>\"] = 1\n",
        "  word_to_id[\"<UNK>\"] = 2\n",
        "  word_to_id[\"<UNUSED>\"] = 3\n",
        "\n",
        "  id_to_word = {value:key for key,value in word_to_id.items()}\n",
        "  return ' '.join(id_to_word[id] for id in in_vec )\n",
        "\n",
        "index_to_study = 2  # change the index to which string you want print out based on the plots above\n",
        "difficult_str = vec2string(t_data_x[index_to_study])  \n",
        "print(difficult_str)"
      ],
      "execution_count": 0,
      "outputs": [
        {
          "output_type": "stream",
          "text": [
            "<PAD> <PAD> <PAD> <PAD> <PAD> <PAD> <PAD> <PAD> <PAD> <PAD> <PAD> <PAD> <PAD> <PAD> <PAD> <PAD> <PAD> <PAD> <PAD> <PAD> <PAD> <PAD> <PAD> <PAD> <PAD> <PAD> <PAD> <PAD> <PAD> <PAD> <PAD> <PAD> <PAD> <PAD> <PAD> <PAD> <PAD> <PAD> <PAD> <PAD> <PAD> <PAD> <PAD> <PAD> <PAD> <PAD> <PAD> <PAD> <PAD> <PAD> <PAD> <PAD> <PAD> <PAD> <PAD> <PAD> <PAD> <PAD> <PAD> <PAD> <PAD> <PAD> <PAD> <PAD> <PAD> <PAD> <PAD> <PAD> <PAD> <PAD> <PAD> <PAD> <PAD> <PAD> <PAD> <PAD> <PAD> <PAD> <PAD> <PAD> <PAD> <PAD> <PAD> <PAD> <PAD> <PAD> <PAD> <PAD> <PAD> <PAD> <PAD> <PAD> <PAD> <PAD> <PAD> <PAD> <PAD> <PAD> <PAD> <PAD> <PAD> <PAD> <PAD> <PAD> <PAD> <PAD> <PAD> <PAD> <PAD> <PAD> <PAD> <PAD> <PAD> <PAD> <PAD> <PAD> <PAD> <PAD> <PAD> <PAD> <PAD> <PAD> <PAD> <PAD> <PAD> <PAD> <PAD> <PAD> <PAD> <PAD> <PAD> <PAD> <PAD> <PAD> <PAD> <PAD> <PAD> <PAD> <PAD> <PAD> <PAD> <PAD> <PAD> <PAD> <PAD> <PAD> <PAD> <PAD> <PAD> <PAD> <PAD> <PAD> <PAD> <PAD> <PAD> <PAD> <PAD> <PAD> <PAD> <PAD> <PAD> <PAD> <PAD> <PAD> <PAD> <PAD> <PAD> <PAD> <PAD> <PAD> <PAD> <PAD> <PAD> <PAD> <PAD> <PAD> <PAD> <PAD> <PAD> <PAD> <PAD> <PAD> <PAD> <PAD> <PAD> <PAD> <PAD> <PAD> <PAD> <PAD> <PAD> <PAD> <PAD> <PAD> <PAD> <PAD> <PAD> <PAD> <PAD> <PAD> <PAD> <PAD> <PAD> <PAD> <PAD> <PAD> <PAD> <PAD> <PAD> <PAD> <PAD> <PAD> <PAD> <PAD> <PAD> <PAD> <PAD> <PAD> <PAD> <PAD> <PAD> <PAD> <PAD> <PAD> <PAD> <PAD> <PAD> <PAD> <PAD> <PAD> <PAD> <PAD> <PAD> <PAD> <PAD> <PAD> <PAD> <PAD> <PAD> <PAD> <PAD> <PAD> <PAD> <PAD> <PAD> <PAD> <PAD> <PAD> <PAD> <PAD> <PAD> <PAD> <PAD> <PAD> <PAD> <PAD> <PAD> <PAD> <PAD> <PAD> <PAD> <PAD> <PAD> <PAD> <PAD> <PAD> <PAD> <PAD> <PAD> <PAD> <PAD> <PAD> <PAD> <PAD> <PAD> <PAD> <PAD> <PAD> <PAD> <PAD> <PAD> <PAD> <PAD> <PAD> <PAD> <PAD> <PAD> <PAD> <PAD> <PAD> <PAD> <PAD> <PAD> <PAD> <PAD> <PAD> <PAD> <PAD> <PAD> <PAD> <PAD> <PAD> <PAD> <PAD> <PAD> <PAD> <PAD> <PAD> <PAD> <PAD> <PAD> <PAD> <PAD> <PAD> <PAD> <PAD> <PAD> <PAD> <START> the duke is a very silly film a dog becoming a duke but it's a very fun movie it has some of those corny <UNK> that many kids movies have but thankfully no <UNK> <UNK> jokes as so many animal movies feel compelled to have mostly it's just dogs being dogs and people being well people the <UNK> <UNK> are <UNK> and appealing the <UNK> <UNK> are ridiculous and of course the <UNK> of many jokes but there is something <UNK> about this movie for even though it is silly it's not out for every cheap laugh like home alone and others br br <UNK> simon and <UNK> do an excellent job playing black and <UNK> <UNK> who becomes the duke after his beloved owner a real duke dies for the most part they just act like dogs no ' or human like emotions and attitudes however they do stereotype <UNK> and <UNK> does fall for her just because she's a <UNK> come on these are dogs they have a different view of beauty br br overall charming fun and enjoyable\n"
          ],
          "name": "stdout"
        }
      ]
    }
  ]
}